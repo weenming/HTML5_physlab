{
 "cells": [
  {
   "cell_type": "code",
   "execution_count": 1,
   "metadata": {},
   "outputs": [],
   "source": [
    "import sys\n",
    "sys.path.append('./..')\n",
    "\n",
    "import torch\n",
    "from data.load_minist import get_minist\n",
    "from training.train import fit, RandomIndexer\n",
    "\n"
   ]
  },
  {
   "cell_type": "code",
   "execution_count": 2,
   "metadata": {},
   "outputs": [
    {
     "name": "stderr",
     "output_type": "stream",
     "text": [
      "loss: 0.4594874680042267:  10%|█         | 1/10 [00:02<00:19,  2.14s/it]"
     ]
    },
    {
     "name": "stdout",
     "output_type": "stream",
     "text": [
      "acc:  0.8255999684333801\n"
     ]
    },
    {
     "name": "stderr",
     "output_type": "stream",
     "text": [
      "loss: 0.3587953448295593:  20%|██        | 2/10 [00:03<00:13,  1.69s/it] "
     ]
    },
    {
     "name": "stdout",
     "output_type": "stream",
     "text": [
      "acc:  0.9193999767303467\n"
     ]
    },
    {
     "name": "stderr",
     "output_type": "stream",
     "text": [
      "loss: 0.3239867389202118:  20%|██        | 2/10 [00:04<00:19,  2.39s/it] \n"
     ]
    },
    {
     "ename": "KeyboardInterrupt",
     "evalue": "",
     "output_type": "error",
     "traceback": [
      "\u001b[0;31m---------------------------------------------------------------------------\u001b[0m",
      "\u001b[0;31mKeyboardInterrupt\u001b[0m                         Traceback (most recent call last)",
      "Cell \u001b[0;32mIn[2], line 26\u001b[0m\n\u001b[1;32m     23\u001b[0m optimizer \u001b[39m=\u001b[39m torch\u001b[39m.\u001b[39moptim\u001b[39m.\u001b[39mAdam(model\u001b[39m.\u001b[39mparameters(), lr\u001b[39m=\u001b[39m\u001b[39m0.001\u001b[39m)\n\u001b[1;32m     24\u001b[0m loss_fn \u001b[39m=\u001b[39m nn\u001b[39m.\u001b[39mCrossEntropyLoss()\n\u001b[0;32m---> 26\u001b[0m fit(\n\u001b[1;32m     27\u001b[0m     model, \n\u001b[1;32m     28\u001b[0m     \u001b[39m*\u001b[39;49mget_minist(\u001b[39m'\u001b[39;49m\u001b[39mcuda\u001b[39;49m\u001b[39m'\u001b[39;49m), \n\u001b[1;32m     29\u001b[0m     epochs\u001b[39m=\u001b[39;49m\u001b[39m10\u001b[39;49m, \n\u001b[1;32m     30\u001b[0m     batch_size\u001b[39m=\u001b[39;49m\u001b[39m64\u001b[39;49m, \n\u001b[1;32m     31\u001b[0m     lr\u001b[39m=\u001b[39;49m\u001b[39m0.001\u001b[39;49m, \n\u001b[1;32m     32\u001b[0m     weight_decay\u001b[39m=\u001b[39;49m\u001b[39m1e-4\u001b[39;49m\n\u001b[1;32m     33\u001b[0m )\n",
      "File \u001b[0;32m~/HTML5_physlab/angular_spectrum/data/./../training/train.py:86\u001b[0m, in \u001b[0;36mfit\u001b[0;34m(model, X_train, X_test, y_train, y_test, epochs, batch_size, loss_fn, **optim_kwargs)\u001b[0m\n\u001b[1;32m     83\u001b[0m \u001b[39mfor\u001b[39;00m i \u001b[39min\u001b[39;00m (pbar \u001b[39m:=\u001b[39m tqdm(\u001b[39mrange\u001b[39m(epochs))):\n\u001b[1;32m     85\u001b[0m     indexer \u001b[39m=\u001b[39m RandomIndexer(batch_size, X_train\u001b[39m.\u001b[39msize(\u001b[39m0\u001b[39m), seed\u001b[39m=\u001b[39mi)\n\u001b[0;32m---> 86\u001b[0m     train_iter(X_train, y_train, model, loss_fn, optimizer, indexer, pbar)\n\u001b[1;32m     88\u001b[0m     \u001b[39mprint\u001b[39m(\u001b[39m'\u001b[39m\u001b[39macc: \u001b[39m\u001b[39m'\u001b[39m, eval_acc(X_test, y_test, model, batch_size)\u001b[39m.\u001b[39mitem())\n",
      "File \u001b[0;32m~/HTML5_physlab/angular_spectrum/data/./../training/train.py:44\u001b[0m, in \u001b[0;36mtrain_iter\u001b[0;34m(X_train, y_train, model, loss_fn, optimizer, random_indexer, pbar)\u001b[0m\n\u001b[1;32m     41\u001b[0m \u001b[39mfor\u001b[39;00m i, batch_idx \u001b[39min\u001b[39;00m \u001b[39menumerate\u001b[39m(random_indexer):\n\u001b[1;32m     42\u001b[0m     X, y \u001b[39m=\u001b[39m X_train[batch_idx, :, :], y_train[batch_idx]\n\u001b[0;32m---> 44\u001b[0m     out \u001b[39m=\u001b[39m model(X)\n\u001b[1;32m     46\u001b[0m     optimizer\u001b[39m.\u001b[39mzero_grad()\n\u001b[1;32m     47\u001b[0m     loss \u001b[39m=\u001b[39m loss_fn(out, y)\n",
      "File \u001b[0;32m/home/vipuser/miniconda3/envs/d2nn/lib/python3.10/site-packages/torch/nn/modules/module.py:1494\u001b[0m, in \u001b[0;36mModule._call_impl\u001b[0;34m(self, *args, **kwargs)\u001b[0m\n\u001b[1;32m   1491\u001b[0m             tracing_state\u001b[39m.\u001b[39mpop_scope()\n\u001b[1;32m   1492\u001b[0m     \u001b[39mreturn\u001b[39;00m result\n\u001b[0;32m-> 1494\u001b[0m \u001b[39mdef\u001b[39;00m \u001b[39m_call_impl\u001b[39m(\u001b[39mself\u001b[39m, \u001b[39m*\u001b[39margs, \u001b[39m*\u001b[39m\u001b[39m*\u001b[39mkwargs):\n\u001b[1;32m   1495\u001b[0m     forward_call \u001b[39m=\u001b[39m (\u001b[39mself\u001b[39m\u001b[39m.\u001b[39m_slow_forward \u001b[39mif\u001b[39;00m torch\u001b[39m.\u001b[39m_C\u001b[39m.\u001b[39m_get_tracing_state() \u001b[39melse\u001b[39;00m \u001b[39mself\u001b[39m\u001b[39m.\u001b[39mforward)\n\u001b[1;32m   1496\u001b[0m     \u001b[39m# If we don't have any hooks, we want to skip the rest of the logic in\u001b[39;00m\n\u001b[1;32m   1497\u001b[0m     \u001b[39m# this function, and just call forward.\u001b[39;00m\n",
      "\u001b[0;31mKeyboardInterrupt\u001b[0m: "
     ]
    }
   ],
   "source": [
    "import torch.nn as nn\n",
    "\n",
    "class MLP(nn.Module):\n",
    "    def __init__(self, indim, hidden, outdim, p=0.01):\n",
    "        super().__init__()\n",
    "        self.layers = nn.ModuleList()\n",
    "        \n",
    "        for n, (i, o) in enumerate(zip([indim] + hidden, hidden + [outdim])):\n",
    "            self.layers.append(nn.Linear(i, o))\n",
    "            self.layers.append(nn.ReLU())\n",
    "            if n != len(hidden):\n",
    "                self.dropout = nn.Dropout(p)\n",
    "    \n",
    "    def forward(self, X):\n",
    "        X = X.flatten(-2, -1)\n",
    "        for i, layer in enumerate(self.layers):\n",
    "            X = layer(X)\n",
    "            if i != self.layers.__len__() - 1:\n",
    "                X = self.dropout(X)\n",
    "        return X\n",
    "\n",
    "model = MLP(28 * 28, [10], 10).cuda()\n",
    "optimizer = torch.optim.Adam(model.parameters(), lr=0.001)\n",
    "loss_fn = nn.CrossEntropyLoss()\n",
    "\n",
    "fit(\n",
    "    model, \n",
    "    *get_minist('cuda'), \n",
    "    epochs=10, \n",
    "    batch_size=64, \n",
    "    lr=0.001, \n",
    "    weight_decay=1e-4\n",
    ")"
   ]
  },
  {
   "cell_type": "code",
   "execution_count": 14,
   "metadata": {},
   "outputs": [
    {
     "data": {
      "text/plain": [
       "Linear(in_features=100, out_features=10, bias=True)"
      ]
     },
     "execution_count": 14,
     "metadata": {},
     "output_type": "execute_result"
    }
   ],
   "source": [
    "model.layers[2]"
   ]
  },
  {
   "cell_type": "code",
   "execution_count": null,
   "metadata": {},
   "outputs": [],
   "source": []
  }
 ],
 "metadata": {
  "kernelspec": {
   "display_name": "d2nn",
   "language": "python",
   "name": "python3"
  },
  "language_info": {
   "codemirror_mode": {
    "name": "ipython",
    "version": 3
   },
   "file_extension": ".py",
   "mimetype": "text/x-python",
   "name": "python",
   "nbconvert_exporter": "python",
   "pygments_lexer": "ipython3",
   "version": "3.10.13"
  },
  "orig_nbformat": 4
 },
 "nbformat": 4,
 "nbformat_minor": 2
}
